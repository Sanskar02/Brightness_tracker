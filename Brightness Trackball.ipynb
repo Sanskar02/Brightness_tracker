{
 "cells": [
  {
   "cell_type": "code",
   "execution_count": 1,
   "metadata": {},
   "outputs": [
    {
     "data": {
      "text/plain": [
       "27"
      ]
     },
     "execution_count": 1,
     "metadata": {},
     "output_type": "execute_result"
    }
   ],
   "source": [
    "import cv2\n",
    " \n",
    "def BrightnessContrast(brightness=0):\n",
    "    \n",
    "    #getTrackbarPos returns the current position of the specified trackbar.\n",
    "    brightness = cv2.getTrackbarPos('Brightness','GEEK')\n",
    " \n",
    "    effect = controller(img, brightness)\n",
    "    cv2.imshow('Effect', effect)\n",
    " \n",
    "def controller(img, brightness=255):\n",
    "   \n",
    "    brightness = int((brightness - 0) * (255 - (-255)) / (510 - 0) + (-255))\n",
    " \n",
    "    if brightness != 0:\n",
    "        if brightness > 0:\n",
    "            shadow = brightness\n",
    "            max = 255\n",
    "        else:\n",
    "            shadow = 0\n",
    "            max = 255 + brightness\n",
    " \n",
    "        al_pha = (max - shadow) / 255\n",
    "        ga_mma = shadow\n",
    " \n",
    "        # The function addWeighted calculates the weighted sum of two arrays\n",
    "        cal = cv2.addWeighted(img, al_pha,img, 0, ga_mma)\n",
    " \n",
    "    else:\n",
    "        cal = img\n",
    " \n",
    "    # putText renders the specified text string in the image.\n",
    "    cv2.putText(cal, 'B:{}'.format(brightness), (10, 30), cv2.FONT_HERSHEY_SIMPLEX, 1, (0, 0, 255), 2)\n",
    " \n",
    "    return cal\n",
    " \n",
    "if __name__ == '__main__':\n",
    "    original = cv2.imread(\"Desktop/photos/kohli.jpeg\")\n",
    " \n",
    "    # Making another copy of an image.\n",
    "    img = original.copy()\n",
    "    cv2.namedWindow('GEEK')\n",
    " \n",
    "    cv2.imshow('GEEK', original)\n",
    " \n",
    "    # createTrackbar(trackbarName, windowName, value, count, on Change Brightness range -255 to 255\n",
    "    cv2.createTrackbar('Brightness',\n",
    "                       'GEEK', 255, 2 * 255,\n",
    "                       BrightnessContrast)\n",
    "     \n",
    "    BrightnessContrast(0)\n",
    " \n",
    "cv2.waitKey(0)"
   ]
  },
  {
   "cell_type": "code",
   "execution_count": null,
   "metadata": {},
   "outputs": [],
   "source": []
  }
 ],
 "metadata": {
  "kernelspec": {
   "display_name": "Python 3",
   "language": "python",
   "name": "python3"
  },
  "language_info": {
   "codemirror_mode": {
    "name": "ipython",
    "version": 3
   },
   "file_extension": ".py",
   "mimetype": "text/x-python",
   "name": "python",
   "nbconvert_exporter": "python",
   "pygments_lexer": "ipython3",
   "version": "3.8.0"
  }
 },
 "nbformat": 4,
 "nbformat_minor": 4
}
